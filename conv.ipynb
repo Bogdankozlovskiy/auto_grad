{
 "cells": [
  {
   "cell_type": "code",
   "execution_count": 1,
   "metadata": {},
   "outputs": [
    {
     "name": "stderr",
     "output_type": "stream",
     "text": [
      "Using TensorFlow backend.\n"
     ]
    }
   ],
   "source": [
    "from autograd import *\n",
    "from matplotlib import pyplot as plt\n",
    "from keras.datasets import mnist\n",
    "import numpy as np\n",
    "import tensorflow as tf\n",
    "import torch\n",
    "from tqdm import tqdm_notebook\n",
    "%matplotlib inline"
   ]
  },
  {
   "cell_type": "code",
   "execution_count": 3,
   "metadata": {},
   "outputs": [
    {
     "data": {
      "text/plain": [
       "((1000, 28, 28, 1), (1000, 10))"
      ]
     },
     "execution_count": 3,
     "metadata": {},
     "output_type": "execute_result"
    }
   ],
   "source": [
    "(x_train, y_train), (x_test, y_test) = mnist.load_data()\n",
    "x_train = x_train /255\n",
    "x_test = x_test / 255\n",
    "\n",
    "x_train = x_train.reshape((-1, 28, 28, 1))[:1000]\n",
    "x_test = x_test.reshape((-1, 28, 28, 1))\n",
    "\n",
    "y_train = np.eye(10, dtype=\"i\")[y_train][:1000]\n",
    "x_train.shape, y_train.shape"
   ]
  },
  {
   "cell_type": "code",
   "execution_count": 3,
   "metadata": {},
   "outputs": [
    {
     "name": "stdout",
     "output_type": "stream",
     "text": [
      "WARNING:tensorflow:From C:\\ProgramData\\Anaconda3\\lib\\site-packages\\tensorflow\\python\\ops\\losses\\losses_impl.py:121: add_dispatch_support.<locals>.wrapper (from tensorflow.python.ops.array_ops) is deprecated and will be removed in a future version.\n",
      "Instructions for updating:\n",
      "Use tf.where in 2.0, which has the same broadcast rule as np.where\n"
     ]
    },
    {
     "data": {
      "image/png": "[encoded data removed]",
      "text/plain": [
       "<Figure size 432x288 with 1 Axes>"
      ]
     },
     "metadata": {
      "needs_background": "light"
     },
     "output_type": "display_data"
    }
   ],
   "source": [
    "learning_rate = 0.02\n",
    "n_steps = 20\n",
    "story_loss = []\n",
    "batch_size = 64\n",
    "data_size = x_train.shape[0]\n",
    "indexes = np.arange(1000)\n",
    "\n",
    "with tf.name_scope(\"placeholders\"):\n",
    "    x = tf.placeholder(tf.float32, (None, 28, 28, 1), name='x')\n",
    "    y = tf.placeholder(tf.float32, (None, 10), name='y')\n",
    "with tf.name_scope('weights'):\n",
    "    W1 = tf.Variable(tf.random_normal((8, 8, 1, 32), dtype=tf.float32), name='weights1')\n",
    "    b1 = tf.Variable(tf.random_normal((1, 32), dtype=tf.float32), name='bias1')\n",
    "    \n",
    "    W2 = tf.Variable(tf.random_normal((21 * 21 * 32, 10), dtype=tf.float32), name=\"weights2\")\n",
    "    b2 = tf.Variable(tf.random_normal((1, 10), dtype=tf.float32), name=\"bias2\")\n",
    "with tf.name_scope('prediction'):\n",
    "    y_pred = tf.nn.conv2d(x, W1, strides=[1, 1, 1, 1], padding='VALID') # same, valid\n",
    "    y_pred = y_pred + b1\n",
    "    y_pred = tf.nn.relu(y_pred)\n",
    "    y_pred = tf.reshape(y_pred, (-1, 21 * 21 * 32))\n",
    "    y_pred = y_pred @ W2 + b2\n",
    "with tf.name_scope('loss'):\n",
    "    l = tf.reduce_sum(tf.losses.softmax_cross_entropy(logits=y_pred, onehot_labels=y))\n",
    "#     l = tf.reduce_sum(tf.nn.softmax_cross_entropy_with_logits_v2(logits=y_pred, labels=y))\n",
    "with tf.name_scope('optim'):\n",
    "    train_op = tf.train.AdamOptimizer(learning_rate).minimize(l)\n",
    "with tf.name_scope(\"saver\"):\n",
    "    saver = tf.train.Saver()\n",
    "\n",
    "with tf.Session() as sess:\n",
    "    sess.run(tf.global_variables_initializer())\n",
    "    for _ in range(n_steps):\n",
    "        step_loss = 0\n",
    "        for i in range(indexes.shape[0] // batch_size):\n",
    "            batch = np.random.choice(indexes, batch_size)\n",
    "            feed_dict = {x:x_train[batch], y:y_train[batch]}\n",
    "            _, loss = sess.run([train_op, l], feed_dict=feed_dict)\n",
    "            step_loss += loss\n",
    "        story_loss.append(step_loss)\n",
    "    saver.save(sess, \"./model.ckpt\")\n",
    "plt.plot(story_loss)\n",
    "plt.grid()"
   ]
  },
  {
   "cell_type": "code",
   "execution_count": 4,
   "metadata": {},
   "outputs": [
    {
     "name": "stdout",
     "output_type": "stream",
     "text": [
      "WARNING:tensorflow:From C:\\ProgramData\\Anaconda3\\lib\\site-packages\\tensorflow\\python\\training\\saver.py:1276: checkpoint_exists (from tensorflow.python.training.checkpoint_management) is deprecated and will be removed in a future version.\n",
      "Instructions for updating:\n",
      "Use standard file APIs to check for files with this prefix.\n",
      "INFO:tensorflow:Restoring parameters from ./model.ckpt\n"
     ]
    },
    {
     "data": {
      "text/plain": [
       "0.8355"
      ]
     },
     "execution_count": 4,
     "metadata": {},
     "output_type": "execute_result"
    }
   ],
   "source": [
    "with tf.Session() as sess:\n",
    "    saver.restore(sess, \"./model.ckpt\")\n",
    "    result = sess.run(y_pred, feed_dict={x:x_test})\n",
    "sum(result.argmax(1) == y_test) / 10000"
   ]
  },
  {
   "cell_type": "code",
   "execution_count": 22,
   "metadata": {},
   "outputs": [
    {
     "data": {
      "text/plain": [
       "tensorflow.python.training.rmsprop.RMSPropOptimizer"
      ]
     },
     "execution_count": 22,
     "metadata": {},
     "output_type": "execute_result"
    }
   ],
   "source": [
    "tf.train.AdamOptimizer\n",
    "tf.train.RMSPropOptimizer"
   ]
  },
  {
   "cell_type": "markdown",
   "metadata": {},
   "source": [
    "Torch\n",
    "==="
   ]
  },
  {
   "cell_type": "code",
   "execution_count": 5,
   "metadata": {},
   "outputs": [],
   "source": [
    "(x_train, y_train), (x_test, y_test) = mnist.load_data()\n",
    "x_train = x_train /255\n",
    "x_test = x_test / 255\n",
    "\n",
    "x_train = x_train[:1000]\n",
    "y_train = y_train[:1000]\n",
    "\n",
    "x_train = x_train.reshape((-1, 1, 28, 28))\n",
    "x_test = x_test.reshape((-1, 1, 28, 28))"
   ]
  },
  {
   "cell_type": "code",
   "execution_count": 9,
   "metadata": {},
   "outputs": [
    {
     "data": {
      "application/vnd.jupyter.widget-view+json": {
       "model_id": "98ce09f333ea4473be51c6b1e693b99a",
       "version_major": 2,
       "version_minor": 0
      },
      "text/plain": [
       "HBox(children=(IntProgress(value=0, max=50), HTML(value='')))"
      ]
     },
     "metadata": {},
     "output_type": "display_data"
    },
    {
     "name": "stdout",
     "output_type": "stream",
     "text": [
      "\n"
     ]
    },
    {
     "data": {
      "image/png": "[encoded data removed]",
      "text/plain": [
       "<Figure size 432x288 with 1 Axes>"
      ]
     },
     "metadata": {
      "needs_background": "light"
     },
     "output_type": "display_data"
    }
   ],
   "source": [
    "indexes = np.arange(x_train.shape[0])\n",
    "batch_size = 64\n",
    "\n",
    "data = torch.Tensor(x_train)\n",
    "target = torch.Tensor(y_train).long()\n",
    "\n",
    "story_loss = []\n",
    "\n",
    "con = torch.nn.Conv2d(1, 16, (8, 8))\n",
    "tanh = torch.nn.Tanh()\n",
    "con1 = torch.nn.Conv2d(16, 32, (3, 3))\n",
    "relu = torch.nn.ReLU()\n",
    "flat = torch.nn.Flatten()\n",
    "fc = torch.nn.Linear(32 * 19 * 19, 10)\n",
    "soft = torch.nn.Softmax(1)\n",
    "\n",
    "model = torch.nn.Sequential(con, tanh, con1, relu, flat, fc, soft)\n",
    "\n",
    "optimizer = torch.optim.RMSprop(model.parameters(), lr=0.0001)\n",
    "\n",
    "loss_func = torch.nn.CrossEntropyLoss()\n",
    "for i in tqdm_notebook(range(50)):\n",
    "    step_loss = 0\n",
    "    for i in range(indexes.shape[0] // batch_size):\n",
    "        batch = np.random.choice(indexes, batch_size)\n",
    "        predict = model(data[batch])\n",
    "        loss = loss_func(predict, target[batch])\n",
    "        loss.backward()\n",
    "        optimizer.step()\n",
    "        step_loss += loss.item()\n",
    "    story_loss.append(step_loss)\n",
    "    \n",
    "plt.plot(story_loss)\n",
    "plt.grid()"
   ]
  },
  {
   "cell_type": "code",
   "execution_count": 10,
   "metadata": {},
   "outputs": [],
   "source": [
    "test_data = torch.Tensor(x_test)"
   ]
  },
  {
   "cell_type": "code",
   "execution_count": 11,
   "metadata": {},
   "outputs": [
    {
     "data": {
      "text/plain": [
       "8797"
      ]
     },
     "execution_count": 11,
     "metadata": {},
     "output_type": "execute_result"
    }
   ],
   "source": [
    "sum(model(test_data).data.numpy().argmax(1) == y_test)"
   ]
  },
  {
   "cell_type": "markdown",
   "metadata": {},
   "source": [
    "autograd\n",
    "==="
   ]
  },
  {
   "cell_type": "code",
   "execution_count": 2,
   "metadata": {},
   "outputs": [
    {
     "data": {
      "text/plain": [
       "((1000, 28, 28, 1), (10000, 28, 28, 1))"
      ]
     },
     "execution_count": 2,
     "metadata": {},
     "output_type": "execute_result"
    }
   ],
   "source": [
    "(x_train, y_train), (x_test, y_test) = mnist.load_data()\n",
    "x_train = x_train[:1000] / 255\n",
    "y_train = y_train[:1000]\n",
    "\n",
    "x_test = x_test / 255\n",
    "batch_size = 128\n",
    "x_train = x_train.reshape((*x_train.shape, 1))\n",
    "x_test = x_test.reshape((*x_test.shape, 1))\n",
    "x_train.shape, x_test.shape"
   ]
  },
  {
   "cell_type": "code",
   "execution_count": 3,
   "metadata": {},
   "outputs": [
    {
     "data": {
      "application/vnd.jupyter.widget-view+json": {
       "model_id": "9d7fdf0f8bff41d3bdc26a0724d5991f",
       "version_major": 2,
       "version_minor": 0
      },
      "text/plain": [
       "HBox(children=(IntProgress(value=0, max=120), HTML(value='')))"
      ]
     },
     "metadata": {},
     "output_type": "display_data"
    },
    {
     "name": "stdout",
     "output_type": "stream",
     "text": [
      "\n"
     ]
    },
    {
     "data": {
      "image/png": "[encoded data removed]",
      "text/plain": [
       "<Figure size 432x288 with 1 Axes>"
      ]
     },
     "metadata": {
      "needs_background": "light"
     },
     "output_type": "display_data"
    }
   ],
   "source": [
    "np.random.seed(1)\n",
    "X = TensorData(x_train)\n",
    "Y = TensorData(y_train)\n",
    "W1 = TensorData(np.random.laplace(scale=0.2, size=(5 * 5, 1, 16)))\n",
    "W2 = TensorData(np.random.laplace(scale=0.2, size=(5 * 5, 16, 16)))\n",
    "W3 = TensorData(np.random.laplace(scale=0.2, size=(1024, 10)))\n",
    "\n",
    "test = X.to_iter(batch_size).in_conv(5, 5).dot(W1).out_conv().max_poling(2, 2).relu().in_conv(5, 5).dot(W2).tanh().flatten().drop_out(0.2).dot(W3).cross_entropy(Y.to_iter(batch_size), 10)\n",
    "\n",
    "all_loss = []\n",
    "for i in tqdm_notebook(range(120)):\n",
    "    step_loss = 0\n",
    "    for i in range(x_train.shape[0] // batch_size):\n",
    "        step_loss += test.forward()\n",
    "        test.bprop()\n",
    "        W1.data -= W1.gradient * 0.0001\n",
    "        W2.data -= W2.gradient * 0.0001\n",
    "        W3.data -= W3.gradient * 0.0001\n",
    "        W1.gradient *= 0.2\n",
    "        W2.gradient *= 0.2\n",
    "        W3.gradient *= 0.2\n",
    "    all_loss.append(step_loss)\n",
    "\n",
    "plt.plot(all_loss)\n",
    "plt.grid()"
   ]
  },
  {
   "cell_type": "code",
   "execution_count": 4,
   "metadata": {},
   "outputs": [
    {
     "data": {
      "text/plain": [
       "0.8494"
      ]
     },
     "execution_count": 4,
     "metadata": {},
     "output_type": "execute_result"
    }
   ],
   "source": [
    "XX = TensorData(x_test)\n",
    "t = XX.in_conv(5, 5).dot(W1).out_conv().max_poling(2, 2).relu().in_conv(5, 5).dot(W2).tanh().flatten().dot(W3)\n",
    "sum(t.forward().argmax(1) == y_test) / y_test.shape[0]"
   ]
  }
 ],
 "metadata": {
  "kernelspec": {
   "display_name": "Python 3",
   "language": "python",
   "name": "python3"
  },
  "language_info": {
   "codemirror_mode": {
    "name": "ipython",
    "version": 3
   },
   "file_extension": ".py",
   "mimetype": "text/x-python",
   "name": "python",
   "nbconvert_exporter": "python",
   "pygments_lexer": "ipython3",
   "version": "3.7.3"
  }
 },
 "nbformat": 4,
 "nbformat_minor": 2
}
